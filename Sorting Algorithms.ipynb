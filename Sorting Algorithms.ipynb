{
 "cells": [
  {
   "cell_type": "code",
   "execution_count": 27,
   "metadata": {},
   "outputs": [],
   "source": [
    "# Refreshal of sorting algorithms with their Time & Space complexity\n",
    "# https://en.wikipedia.org/wiki/Sorting_algorithm\n",
    "import random\n",
    "import math\n",
    "from timeit import default_timer as timer"
   ]
  },
  {
   "cell_type": "code",
   "execution_count": 50,
   "metadata": {},
   "outputs": [],
   "source": [
    "# Generate a list to be sorted\n",
    "def get_random_list(length):\n",
    "    unsorted = []\n",
    "    for _ in range (length):\n",
    "        unsorted.append(random.randint(0, 100000))\n",
    "    return unsorted"
   ]
  },
  {
   "cell_type": "code",
   "execution_count": 71,
   "metadata": {
    "collapsed": true
   },
   "outputs": [],
   "source": [
    "# PYTHON sort = Timsort 2002 (hybrid sorting algorithm derived from merge sort and insertion sort) \n",
    "# The algorithm finds subsets of the data that are already ordered and uses the subsets to sort the \n",
    "# data more efficiently. This is done by merging an identified subset, called a run, with existing \n",
    "# runs until certain criteria are fulfilled\n",
    "# Yea, you won't beat this haha\n",
    "def python_sort(unsorted):\n",
    "    return sorted(unsorted)\n",
    "\n",
    "# Space complexity (memory) ???\n",
    "# Time complexity ???"
   ]
  },
  {
   "cell_type": "code",
   "execution_count": 94,
   "metadata": {},
   "outputs": [],
   "source": [
    "# Random sort (swap elements randomly until list is sorted)\n",
    "def random_sort(unsorted):\n",
    "    l = len(unsorted) - 1\n",
    "    sorted_list = sorted(unsorted)\n",
    "    while unsorted != sorted_list:\n",
    "        randint1 = random.randint(0,l)\n",
    "        randint2 = random.randint(0,l)\n",
    "        unsorted[randint1], unsorted[randint2] = unsorted[randint2], unsorted[randint1]\n",
    "    return unsorted\n",
    "\n",
    "# Move elements randomly until list is sorted\n",
    "def random_sort2(unsorted):\n",
    "    l = len(unsorted) - 1\n",
    "    sorted_list = sorted(unsorted)\n",
    "    while unsorted != sorted_list:\n",
    "        unsorted.insert(random.randint(0,l), unsorted.pop(random.randint(0,l)))\n",
    "    return unsorted\n",
    "    \n",
    "# Space complexity O(n)\n",
    "# Time complexity O(infinite?)"
   ]
  },
  {
   "cell_type": "code",
   "execution_count": null,
   "metadata": {
    "collapsed": true
   },
   "outputs": [],
   "source": []
  },
  {
   "cell_type": "code",
   "execution_count": 115,
   "metadata": {},
   "outputs": [],
   "source": [
    "# To begin!\n",
    "### COMPARISON SORTS ### (cannot perform better than O(n log n) in the average or worst case)\n",
    "\n",
    "# Recursion + divide and conquer (recursion limits make this impractical in Python)\n",
    "# Hoare partition scheme of quicksort\n",
    "def quicksort(unsorted):\n",
    "    def _quicksort(unsorted, lo=0, hi=len(unsorted)-1):\n",
    "        if hi > lo:\n",
    "            p = partition(unsorted, lo, hi)\n",
    "            _quicksort(unsorted, lo, p)\n",
    "            _quicksort(unsorted, p+1, hi)\n",
    "\n",
    "    def partition(unsorted, lo, hi):\n",
    "        pivot = unsorted[lo]\n",
    "        while True:\n",
    "            while pivot > unsorted[lo]:\n",
    "                lo += 1\n",
    "            while unsorted[hi] > pivot:\n",
    "                hi -= 1\n",
    "            if lo >= hi:\n",
    "                return hi\n",
    "            unsorted[lo], unsorted[hi] = unsorted[hi], unsorted[lo]\n",
    "            lo += 1\n",
    "            hi -= 1\n",
    "    _quicksort(unsorted)\n",
    "    return unsorted\n",
    "\n",
    "\n",
    "# Time complexity:  Best = O(n log n)  |  Average =  O(n log n)  |  Worst =  O(n**2)\n",
    "# Space complexity: O(log n) (worst case O(n))\n",
    "# Stable: Typically not\n",
    "\n",
    "# VERY GOOD MEMORY WISE (other than recursion...)"
   ]
  },
  {
   "cell_type": "code",
   "execution_count": null,
   "metadata": {
    "collapsed": true
   },
   "outputs": [],
   "source": []
  },
  {
   "cell_type": "code",
   "execution_count": null,
   "metadata": {
    "collapsed": true
   },
   "outputs": [],
   "source": [
    "# Library Sort 2006"
   ]
  },
  {
   "cell_type": "code",
   "execution_count": null,
   "metadata": {
    "collapsed": true
   },
   "outputs": [],
   "source": []
  },
  {
   "cell_type": "code",
   "execution_count": 118,
   "metadata": {},
   "outputs": [
    {
     "name": "stdout",
     "output_type": "stream",
     "text": [
      "Sorted in 0.0000120342 seconds\n",
      "Sorted in 0.0000196923 seconds\n",
      "Sorted in 0.0000164103 seconds\n",
      "Sorted in 0.0000328205 seconds\n",
      "Sorted in 0.0000320912 seconds\n",
      "Sorted in 0.0000160456 seconds\n",
      "Sorted in 0.0000131282 seconds\n",
      "Sorted in 0.0000156809 seconds\n",
      "Sorted in 0.0000167749 seconds\n",
      "Sorted in 0.0000167749 seconds\n"
     ]
    }
   ],
   "source": [
    "# Test performance\n",
    "for i in range (10):\n",
    "    unsorted = get_random_list(8)\n",
    "\n",
    "    start = timer()\n",
    "    quicksort(unsorted)\n",
    "    print(\"Sorted in %.10f seconds\" % (timer() - start))"
   ]
  },
  {
   "cell_type": "code",
   "execution_count": 83,
   "metadata": {},
   "outputs": [
    {
     "data": {
      "text/plain": [
       "[2, 3, 1]"
      ]
     },
     "execution_count": 83,
     "metadata": {},
     "output_type": "execute_result"
    }
   ],
   "source": [
    "l = [1, 2, 3]\n",
    "l.insert(2, l.pop(0))\n",
    "l"
   ]
  },
  {
   "cell_type": "code",
   "execution_count": 121,
   "metadata": {},
   "outputs": [
    {
     "data": {
      "text/plain": [
       "[1, 2, 3, 4, 5]"
      ]
     },
     "execution_count": 121,
     "metadata": {},
     "output_type": "execute_result"
    }
   ],
   "source": [
    "l = [4, 5, 3, 2, 1]\n",
    "l.sort()\n",
    "l"
   ]
  },
  {
   "cell_type": "code",
   "execution_count": 122,
   "metadata": {},
   "outputs": [
    {
     "data": {
      "text/plain": [
       "[1, 2, 3, 4, 5]"
      ]
     },
     "execution_count": 122,
     "metadata": {},
     "output_type": "execute_result"
    }
   ],
   "source": [
    "l = [4, 5, 3, 2, 1]\n",
    "sorted(l)"
   ]
  }
 ],
 "metadata": {
  "kernelspec": {
   "display_name": "Python 3",
   "language": "python",
   "name": "python3"
  },
  "language_info": {
   "codemirror_mode": {
    "name": "ipython",
    "version": 3
   },
   "file_extension": ".py",
   "mimetype": "text/x-python",
   "name": "python",
   "nbconvert_exporter": "python",
   "pygments_lexer": "ipython3",
   "version": "3.6.1"
  }
 },
 "nbformat": 4,
 "nbformat_minor": 2
}
