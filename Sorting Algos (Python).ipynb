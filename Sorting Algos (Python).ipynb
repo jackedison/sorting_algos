{
 "cells": [
  {
   "cell_type": "code",
   "execution_count": 103,
   "metadata": {},
   "outputs": [],
   "source": [
    "import math\n",
    "\n",
    "def merge_sort(lst):\n",
    "    '''Take in list and merge sort them, 2 by 2'''\n",
    "    length = len(lst)\n",
    "    \n",
    "    # 1. Sort all pairs\n",
    "    temp_lst = []\n",
    "    for i in range(0, length, 2):\n",
    "        temp_lst.append(min(lst[i:i+2]))\n",
    "        temp_lst.append(max(lst[i:i+2]))\n",
    "    if length % 2 != 0:  # If odd length pop extra element added with the min/max logic\n",
    "        del(temp_lst[-1])\n",
    "        \n",
    "    # 2. Loop through all pairs, then all fours, etc. merging\n",
    "    # Will need to loop through log(length-1, 2) rounded down\n",
    "    runs = int(math.log2(length-1))\n",
    "    for run in range(runs):\n",
    "        seg_size = 2**(run+1)\n",
    "        sorted_lst = []\n",
    "        for seg in range(0, length, seg_size*2):\n",
    "            seg_a = temp_lst[seg:seg+seg_size]\n",
    "            seg_b = temp_lst[seg+seg_size:seg+seg_size+seg_size]\n",
    "            \n",
    "            # Loop through both lists until one has been exhausted\n",
    "            # Add min current ele to new list each run\n",
    "            # Once one list exhausted, add all of the other list\n",
    "            index_a = 0\n",
    "            index_b = 0\n",
    "            len_a = len(seg_a)\n",
    "            len_b = len(seg_b)  # If length b is less or 0 then do less here\n",
    "            while index_a < len_a and index_b < len_b:\n",
    "                if seg_a[index_a] < seg_b[index_b]:\n",
    "                    sorted_lst.append(seg_a[index_a])\n",
    "                    index_a += 1\n",
    "                else:\n",
    "                    sorted_lst.append(seg_b[index_b])\n",
    "                    index_b += 1\n",
    "                    \n",
    "            seg_to_add = seg_a if index_b >= len_b else seg_b\n",
    "            index_from = index_a if index_b >= len_b else index_b\n",
    "            sorted_lst += seg_to_add[index_from:]\n",
    "\n",
    "        temp_lst = sorted_lst\n",
    "        \n",
    "    return sorted_lst\n",
    "    \n",
    "    \n",
    "    \n",
    "# Note, in most programming languages could use basic array instead of Python list implementation\n",
    "# Tried to mimic functionalities of that here rather than using easier Pythonic code"
   ]
  },
  {
   "cell_type": "code",
   "execution_count": 110,
   "metadata": {},
   "outputs": [
    {
     "name": "stdout",
     "output_type": "stream",
     "text": [
      "Initial list: [61, 88, 13, 11, 82, 58, 40, 84, 95, 29, 35, 42, 45, 38, 19, 14, 10, 99, 59, 12, 26, 71, 85, 9, 74, 86, 28, 53, 39, 65, 80, 51, 52, 7, 30, 54, 2, 60, 56, 73, 72, 24, 8, 89, 49, 20, 94, 66, 47, 100, 68, 25, 17, 23, 96, 37, 57, 46, 78, 79, 36, 31, 32, 33, 90, 64, 43, 3, 92, 98, 1, 18, 91, 15, 6, 97, 48, 4, 21, 76, 55, 22, 44, 77, 69, 70, 62, 67, 63, 75, 16, 27, 87, 50, 34, 83, 41, 5, 81, 93]\n"
     ]
    }
   ],
   "source": [
    "import random\n",
    "length = 100\n",
    "lst = random.sample(range(1, length+1), length)\n",
    "print('Initial list: {}'.format(lst))"
   ]
  },
  {
   "cell_type": "code",
   "execution_count": 111,
   "metadata": {},
   "outputs": [
    {
     "name": "stdout",
     "output_type": "stream",
     "text": [
      "Sorted list: [1, 2, 3, 4, 5, 6, 7, 8, 9, 10, 11, 12, 13, 14, 15, 16, 17, 18, 19, 20, 21, 22, 23, 24, 25, 26, 27, 28, 29, 30, 31, 32, 33, 34, 35, 36, 37, 38, 39, 40, 41, 42, 43, 44, 45, 46, 47, 48, 49, 50, 51, 52, 53, 54, 55, 56, 57, 58, 59, 60, 61, 62, 63, 64, 65, 66, 67, 68, 69, 70, 71, 72, 73, 74, 75, 76, 77, 78, 79, 80, 81, 82, 83, 84, 85, 86, 87, 88, 89, 90, 91, 92, 93, 94, 95, 96, 97, 98, 99, 100]\n"
     ]
    }
   ],
   "source": [
    "print('Sorted list: {}'.format(merge_sort(lst)))"
   ]
  },
  {
   "cell_type": "markdown",
   "metadata": {},
   "source": [
    "### Time complexity: O(n * log(n))\n",
    "### Space complexity: O(n)"
   ]
  },
  {
   "cell_type": "code",
   "execution_count": 144,
   "metadata": {},
   "outputs": [
    {
     "name": "stdout",
     "output_type": "stream",
     "text": [
      "temp 0.0002816659998643445\n"
     ]
    }
   ],
   "source": [
    "@time_decorator\n",
    "def temp():\n",
    "    for i in range(10000):\n",
    "        pass\n",
    "    \n",
    "temp()"
   ]
  },
  {
   "cell_type": "code",
   "execution_count": null,
   "metadata": {},
   "outputs": [],
   "source": []
  },
  {
   "cell_type": "code",
   "execution_count": null,
   "metadata": {},
   "outputs": [],
   "source": []
  },
  {
   "cell_type": "code",
   "execution_count": null,
   "metadata": {},
   "outputs": [],
   "source": []
  },
  {
   "cell_type": "markdown",
   "metadata": {},
   "source": [
    "#### Standard Python timing decorator I use to compare functions"
   ]
  },
  {
   "cell_type": "code",
   "execution_count": 143,
   "metadata": {},
   "outputs": [],
   "source": [
    "from timeit import default_timer as timer\n",
    "\n",
    "def time_decorator(func):\n",
    "    def wrapper(*args, **kwargs):\n",
    "        start = timer()\n",
    "        results = func(*args, **kwargs)\n",
    "        end = timer()\n",
    "        print(func.__name__, end-start)\n",
    "        return results\n",
    "    return wrapper"
   ]
  },
  {
   "cell_type": "code",
   "execution_count": null,
   "metadata": {},
   "outputs": [],
   "source": []
  },
  {
   "cell_type": "code",
   "execution_count": 148,
   "metadata": {},
   "outputs": [],
   "source": [
    "import random\n",
    "dic = {i:1 for i in range(10)}\n",
    "for key in dic:\n",
    "    dic[key] = random.randint(1, 100)"
   ]
  },
  {
   "cell_type": "code",
   "execution_count": 149,
   "metadata": {},
   "outputs": [
    {
     "data": {
      "text/plain": [
       "{0: 2, 1: 26, 2: 42, 3: 29, 4: 25, 5: 97, 6: 54, 7: 40, 8: 28, 9: 84}"
      ]
     },
     "execution_count": 149,
     "metadata": {},
     "output_type": "execute_result"
    }
   ],
   "source": [
    "dic"
   ]
  },
  {
   "cell_type": "code",
   "execution_count": 150,
   "metadata": {},
   "outputs": [
    {
     "data": {
      "text/plain": [
       "97"
      ]
     },
     "execution_count": 150,
     "metadata": {},
     "output_type": "execute_result"
    }
   ],
   "source": [
    "max(dic.values())"
   ]
  },
  {
   "cell_type": "code",
   "execution_count": 151,
   "metadata": {},
   "outputs": [
    {
     "data": {
      "text/plain": [
       "[0, 0, 0, 7, 0, 0, 0, 0, 0, 0]"
      ]
     },
     "execution_count": 151,
     "metadata": {},
     "output_type": "execute_result"
    }
   ],
   "source": [
    "counters = [0] * 10\n",
    "counters[3] = 7\n",
    "counters"
   ]
  },
  {
   "cell_type": "code",
   "execution_count": 152,
   "metadata": {},
   "outputs": [
    {
     "data": {
      "text/plain": [
       "''"
      ]
     },
     "execution_count": 152,
     "metadata": {},
     "output_type": "execute_result"
    }
   ],
   "source": [
    "'A'[0:0]"
   ]
  },
  {
   "cell_type": "code",
   "execution_count": 155,
   "metadata": {},
   "outputs": [],
   "source": [
    "'a'"
   ]
  },
  {
   "cell_type": "code",
   "execution_count": 157,
   "metadata": {},
   "outputs": [],
   "source": [
    "temp = temp[:-1]"
   ]
  },
  {
   "cell_type": "code",
   "execution_count": 158,
   "metadata": {},
   "outputs": [
    {
     "data": {
      "text/plain": [
       "'ab'"
      ]
     },
     "execution_count": 158,
     "metadata": {},
     "output_type": "execute_result"
    }
   ],
   "source": [
    "temp"
   ]
  },
  {
   "cell_type": "code",
   "execution_count": null,
   "metadata": {},
   "outputs": [],
   "source": []
  }
 ],
 "metadata": {
  "kernelspec": {
   "display_name": "Python 3",
   "language": "python",
   "name": "python3"
  },
  "language_info": {
   "codemirror_mode": {
    "name": "ipython",
    "version": 3
   },
   "file_extension": ".py",
   "mimetype": "text/x-python",
   "name": "python",
   "nbconvert_exporter": "python",
   "pygments_lexer": "ipython3",
   "version": "3.7.3"
  }
 },
 "nbformat": 4,
 "nbformat_minor": 2
}
